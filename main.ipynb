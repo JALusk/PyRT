{
 "metadata": {
  "name": "main"
 },
 "nbformat": 3,
 "nbformat_minor": 0,
 "worksheets": [
  {
   "cells": [
    {
     "cell_type": "code",
     "collapsed": false,
     "input": [
      "# number of angle points\n",
      "n_mu_pts = 10\n",
      "\n",
      "# number of physical grid depth points\n",
      "n_depth_pts = 10"
     ],
     "language": "python",
     "metadata": {},
     "outputs": [],
     "prompt_number": 1
    },
    {
     "cell_type": "code",
     "collapsed": false,
     "input": [
      "# source function, assumed to be isotropic (so no angle dependence)\n",
      "def source_fn(i):\n",
      "    return (planck_fn(1)) # TODO: fix this\n",
      "\n",
      "# Planck function\n",
      "def planck_fn(T):\n",
      "    return (1)"
     ],
     "language": "python",
     "metadata": {},
     "outputs": [],
     "prompt_number": 2
    },
    {
     "cell_type": "code",
     "collapsed": false,
     "input": [
      "import numpy as np\n",
      "import astropy.units as u"
     ],
     "language": "python",
     "metadata": {},
     "outputs": [],
     "prompt_number": 3
    },
    {
     "cell_type": "code",
     "collapsed": false,
     "input": [
      "# physical grid\n",
      "radial_grid = np.linspace(1, 10, n_depth_pts) * u.cm\n",
      "\n",
      "# opacity grid\n",
      "chi_grid = np.logspace(-7, 3, n_depth_pts) * (1/u.cm)"
     ],
     "language": "python",
     "metadata": {},
     "outputs": [
      {
       "output_type": "stream",
       "stream": "stdout",
       "text": [
        "WARNING: Converting Quantity object in units '1 / (cm)' to a Numpy array [astropy.units.quantity]\n"
       ]
      }
     ],
     "prompt_number": 4
    },
    {
     "cell_type": "code",
     "collapsed": false,
     "input": [
      "from math import fabs, exp"
     ],
     "language": "python",
     "metadata": {},
     "outputs": [],
     "prompt_number": 5
    },
    {
     "cell_type": "code",
     "collapsed": false,
     "input": [
      "class ray:\n",
      "    def __init__(self, mu):\n",
      "        self.mu = mu\n",
      "        self.I_lam = np.zeros(n_depth_pts)\n",
      "        if mu > 0:\n",
      "            self.I_lam[0] = planck_fn(1)\n",
      "        else:\n",
      "            self.I_lam[0] = 0\n",
      "        self.tau_grid = np.zeros(n_depth_pts)\n",
      "    \n",
      "    def calc_tau(self):\n",
      "        self.tau_grid[0] = (0 * u.dimensionless_unscaled)\n",
      "        for i, depth in enumerate(radial_grid):\n",
      "            if i > 0:\n",
      "                self.tau_grid[i] = (self.tau_grid[i-1] + (0.5 * (chi_grid[i] + chi_grid[i-1]) * (radial_grid[i] - radial_grid[i-1]) / fabs(self.mu)))\n",
      "                \n",
      "    def Delta_tau(self, i):\n",
      "        return (self.tau_grid[i+1] - self.tau_grid[i])\n",
      "    \n",
      "    def alpha(self, i):\n",
      "        return (((1 - exp(-self.Delta_tau(i-1)))/self.Delta_tau(i-1))  - exp(-self.Delta_tau(i-1)))\n",
      "    def beta(self, i):\n",
      "        return (1 - (1 - exp(-self.Delta_tau(i-1)) / self.Delta_tau(i-1)))\n",
      "    def gamma(self, i):\n",
      "        return (0)\n",
      "    \n",
      "    def Delta_I(self, i):\n",
      "        return (self.alpha(i) * source_fn(i-1) + self.beta(i) * source_fn(i) + self.gamma(i) * source_fn(i+1))\n",
      "    \n",
      "    def formal_soln(self):\n",
      "        for i, depth in enumerate(self.tau_grid):\n",
      "            if i > 0:\n",
      "                self.I_lam[i] = self.I_lam[i-1] * exp(-self.Delta_tau(i-1)) + self.Delta_I(i)"
     ],
     "language": "python",
     "metadata": {},
     "outputs": [],
     "prompt_number": 6
    },
    {
     "cell_type": "code",
     "collapsed": false,
     "input": [
      "# angular grid\n",
      "mu_grid = np.linspace(-1, 1, n_mu_pts)\n",
      "\n",
      "rays = []\n",
      "for mu in mu_grid:\n",
      "    rays.append(ray(mu))"
     ],
     "language": "python",
     "metadata": {},
     "outputs": [],
     "prompt_number": 7
    },
    {
     "cell_type": "code",
     "collapsed": false,
     "input": [
      "for ray in rays:\n",
      "    ray.calc_tau()\n",
      "    ray.formal_soln()"
     ],
     "language": "python",
     "metadata": {},
     "outputs": [
      {
       "output_type": "stream",
       "stream": "stdout",
       "text": [
        "WARNING: Converting Quantity object in units 'cm' to a Numpy array [astropy.units.quantity]\n"
       ]
      }
     ],
     "prompt_number": 8
    },
    {
     "cell_type": "code",
     "collapsed": false,
     "input": [
      "# build tri-diagonal component of Lambda matrix\n",
      "\n",
      "# TODO: check boundary conditions (j = 0 and j = n_depth_points). Did I miss anything?\n",
      "\n",
      "Lambda_star = np.zeros([n_depth_pts, n_depth_pts])\n",
      "\n",
      "for j, ray in enumerate(rays):\n",
      "    if j > 0:\n",
      "        Lambda_star[j-1, j] = ray.gamma(j-1)\n",
      "    if j < n_depth_pts-2:\n",
      "        Lambda_star[j+1, j] = Lambda_star[  j, j] * exp(-(ray.Delta_tau(j+1))) + ray.alpha(j+1)\n",
      "    if j > 0 and j < n_depth_pts-2:\n",
      "        Lambda_star[  j, j] = Lambda_star[j-1, j] * exp(-(ray.Delta_tau(j))) + ray.beta(j)"
     ],
     "language": "python",
     "metadata": {},
     "outputs": [],
     "prompt_number": 9
    },
    {
     "cell_type": "code",
     "collapsed": false,
     "input": [],
     "language": "python",
     "metadata": {},
     "outputs": []
    }
   ],
   "metadata": {}
  }
 ]
}