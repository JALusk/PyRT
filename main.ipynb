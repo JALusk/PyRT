{
 "metadata": {
  "name": "main"
 },
 "nbformat": 3,
 "nbformat_minor": 0,
 "worksheets": [
  {
   "cells": [
    {
     "cell_type": "code",
     "collapsed": false,
     "input": [
      "import numpy as np"
     ],
     "language": "python",
     "metadata": {},
     "outputs": [],
     "prompt_number": 1
    },
    {
     "cell_type": "code",
     "collapsed": false,
     "input": [
      "# number of angle points\n",
      "n_mu_pts = 50\n",
      "\n",
      "\n",
      "# number of optical depth points\n",
      "n_tau_pts = 10"
     ],
     "language": "python",
     "metadata": {},
     "outputs": [],
     "prompt_number": 2
    },
    {
     "cell_type": "code",
     "collapsed": false,
     "input": [
      "# angular grid\n",
      "mu_grid = np.linspace(-1, 1, n_mu_pts)\n",
      "\n",
      "# positive angle points\n",
      "mu_grid_m = mu_grid[:n_mu_pts/2]\n",
      "# negative angle points\n",
      "mu_grid_p = mu_grid[n_mu_pts/2 + 1:]\n",
      "\n",
      "# optical depth grid\n",
      "tau_grid = np.logspace(-7, 3, n_tau_pts)"
     ],
     "language": "python",
     "metadata": {},
     "outputs": [],
     "prompt_number": 3
    },
    {
     "cell_type": "code",
     "collapsed": false,
     "input": [
      "from math import fabs\n",
      "\n",
      "def delta_tau(i, j):\n",
      "    return ((tau_grid[i] - tau_grid[i-1]) / fabs(mu_grid[j]))"
     ],
     "language": "python",
     "metadata": {},
     "outputs": [],
     "prompt_number": 4
    },
    {
     "cell_type": "code",
     "collapsed": false,
     "input": [
      "# source function interpolation coefficent helpers\n",
      "from math import exp, pow\n",
      "\n",
      "def e0(tau_idx, mu_idx):\n",
      "    return (1 - exp(-delta_tau(tau_idx-1, mu_idx)))\n",
      "def e1(tau_idx, mu_idx):\n",
      "    return (delta_tau(tau_idx-1, mu_idx) - e0(tau_idx, mu_idx))\n",
      "def e2(tau_idx, mu_idx):\n",
      "    return (pow(delta_tau(tau_idx-1, mu_idx), 2) - 2*e1(tau_idx, mu_idx))"
     ],
     "language": "python",
     "metadata": {},
     "outputs": [],
     "prompt_number": 5
    },
    {
     "cell_type": "code",
     "collapsed": false,
     "input": [
      "# source function interpolation coefficents (LINEAR)\n",
      "\n",
      "def alpha_m(tau_idx, mu_idx):\n",
      "    return (e0(tau_idx, mu_idx) - e1(tau_idx, mu_idx)/delta_tau(tau_idx-1, mu_idx))\n",
      "def beta_m(tau_idx, mu_idx):\n",
      "    return (e1(tau_idx, mu_idx) / delta_tau(tau_idx-1, mu_idx))\n",
      "def gamma_m(tau_idx, mu_idx):\n",
      "    return (0)\n",
      "\n",
      "def alpha_p(tau_idx, mu_idx):\n",
      "    return (0)\n",
      "def beta_p(tau_idx, mu_idx):\n",
      "    return (e1(tau_idx+1, mu_idx) / delta_tau(tau_idx, mu_idx))\n",
      "def gamma_p(tau_idx, mu_idx):\n",
      "    return (e0(tau_idx+1, mu_idx) - e1(tau_idx+1, mu_idx)/delta_tau(tau_idx, mu_idx))"
     ],
     "language": "python",
     "metadata": {},
     "outputs": [],
     "prompt_number": 6
    },
    {
     "cell_type": "code",
     "collapsed": false,
     "input": [
      "# build tri-diagonal component of Lambda matrix\n",
      "from scipy.integrate import simps\n",
      "\n",
      "i_hat_m_im1 = np.empty([n_tau_pts, n_mu_pts])\n",
      "i_hat_m_i   = np.empty([n_tau_pts, n_mu_pts])\n",
      "i_hat_m_ip1 = np.empty([n_tau_pts, n_mu_pts])\n",
      "\n",
      "i_hat_p_im1 = np.empty([n_tau_pts, n_mu_pts])\n",
      "i_hat_p_i   = np.empty([n_tau_pts, n_mu_pts])\n",
      "i_hat_p_ip1 = np.empty([n_tau_pts, n_mu_pts])\n",
      "\n",
      "Lambda = np.zeros([n_tau_pts, n_tau_pts])\n",
      "\n",
      "for i in range(1, n_tau_pts-1):\n",
      "    for j in range(n_mu_pts):\n",
      "        if (i == 1):\n",
      "            i_hat_m_im1[i, j] = 0\n",
      "            i_hat_m_i  [i, j] = 0\n",
      "            i_hat_m_ip1[i, j] = 0\n",
      "        else:\n",
      "            i_hat_m_im1[i, j] =  gamma_m(i-1, j)\n",
      "            i_hat_m_i  [i, j] =  gamma_m(i-1, j) * exp(-delta_tau(i-1, j)) + beta_m(i, j)\n",
      "            i_hat_m_ip1[i, j] = (gamma_m(i-1, j) * exp(-delta_tau(i-1, j)) + beta_m(i, j)) * exp(-delta_tau(i, j)) + alpha_m(i+1, j)\n",
      "\n",
      "for i in range(1, n_tau_pts-1):\n",
      "    for j in range(n_mu_pts):\n",
      "        if (i == n_tau_pts-1):\n",
      "            i_hat_p_ip1[i, j] = 0\n",
      "            i_hat_p_i  [i, j] = 0\n",
      "            i_hat_p_im1[i, j] = 0\n",
      "        else:\n",
      "            i_hat_p_ip1[i, j] =  alpha_p(i+1, j)\n",
      "            i_hat_p_i  [i, j] =  alpha_p(i+1, j) * exp(-delta_tau(i, j)) + beta_p(i, j)\n",
      "            i_hat_p_im1[i, j] = (alpha_p(i+1, j) * exp(-delta_tau(i, j)) + beta_p(i, j)) * exp(-delta_tau(i, j)) + gamma_p(i+1, j)\n",
      "\n",
      "for i in range(1, n_tau_pts-1):\n",
      "    Lambda[i-1, i] = 0.25 * simps(i_hat_m_im1[i] + i_hat_m_ip1[i])\n",
      "    Lambda[i  , i] = 0.25 * simps(i_hat_m_i  [i] + i_hat_m_i  [i])\n",
      "    Lambda[i+1, i] = 0.25 * simps(i_hat_m_ip1[i] + i_hat_m_ip1[i])"
     ],
     "language": "python",
     "metadata": {},
     "outputs": [],
     "prompt_number": 7
    },
    {
     "cell_type": "code",
     "collapsed": false,
     "input": [],
     "language": "python",
     "metadata": {},
     "outputs": []
    }
   ],
   "metadata": {}
  }
 ]
}