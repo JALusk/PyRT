{
 "metadata": {
  "name": "main"
 },
 "nbformat": 3,
 "nbformat_minor": 0,
 "worksheets": [
  {
   "cells": [
    {
     "cell_type": "code",
     "collapsed": false,
     "input": [
      "# number of angle points\n",
      "n_mu_pts = 10\n",
      "\n",
      "# number of physical grid depth points\n",
      "n_depth_pts = 10"
     ],
     "language": "python",
     "metadata": {},
     "outputs": [],
     "prompt_number": 1
    },
    {
     "cell_type": "code",
     "collapsed": false,
     "input": [
      "# source function, assumed to be isotropic (so no angle dependence)\n",
      "def source_fn(i):\n",
      "    return (planck_fn(1)) # TODO: fix this\n",
      "\n",
      "# Planck function\n",
      "def planck_fn(T):\n",
      "    return (1)"
     ],
     "language": "python",
     "metadata": {},
     "outputs": [],
     "prompt_number": 2
    },
    {
     "cell_type": "code",
     "collapsed": false,
     "input": [
      "import numpy as np\n",
      "import astropy.units as u"
     ],
     "language": "python",
     "metadata": {},
     "outputs": [],
     "prompt_number": 3
    },
    {
     "cell_type": "code",
     "collapsed": false,
     "input": [
      "# physical grid\n",
      "radial_grid = np.linspace(1, 10, n_depth_pts) * u.cm\n",
      "\n",
      "# opacity grid\n",
      "chi_grid = np.logspace(-7, 3, n_depth_pts) * (1/u.cm)"
     ],
     "language": "python",
     "metadata": {},
     "outputs": [
      {
       "output_type": "stream",
       "stream": "stdout",
       "text": [
        "WARNING: Converting Quantity object in units '1 / (cm)' to a Numpy array [astropy.units.quantity]\n"
       ]
      }
     ],
     "prompt_number": 4
    },
    {
     "cell_type": "code",
     "collapsed": false,
     "input": [
      "from math import fabs, exp"
     ],
     "language": "python",
     "metadata": {},
     "outputs": [],
     "prompt_number": 5
    },
    {
     "cell_type": "code",
     "collapsed": false,
     "input": [
      "class ray:\n",
      "    def __init__(self, mu):\n",
      "        self.mu = mu\n",
      "        self.I_lam = np.zeros(n_depth_pts)\n",
      "        if mu > 0:\n",
      "            self.I_lam[0] = planck_fn(1)\n",
      "        else:\n",
      "            self.I_lam[0] = 0\n",
      "        self.tau_grid = np.zeros(n_depth_pts)\n",
      "    \n",
      "    def calc_tau(self):\n",
      "        self.tau_grid[0] = (0 * u.dimensionless_unscaled)\n",
      "        for i, depth in enumerate(radial_grid):\n",
      "            if i > 0:\n",
      "                self.tau_grid[i] = (self.tau_grid[i-1] + (0.5 * (chi_grid[i] + chi_grid[i-1]) * (radial_grid[i] - radial_grid[i-1]) / fabs(self.mu)))\n",
      "                \n",
      "    def Delta_tau(self, i):\n",
      "        return (self.tau_grid[i+1] - self.tau_grid[i])\n",
      "    \n",
      "    def alpha(self, i):\n",
      "        return (((1 - exp(-self.Delta_tau(i-1)))/self.Delta_tau(i-1))  - exp(-self.Delta_tau(i-1)))\n",
      "    def beta(self, i):\n",
      "        return (1 - (1 - exp(-self.Delta_tau(i-1)) / self.Delta_tau(i-1)))\n",
      "    def gamma(self, i):\n",
      "        return (0)\n",
      "    \n",
      "    def Delta_I(self, i):\n",
      "        return (self.alpha(i) * source_fn(i-1) + self.beta(i) * source_fn(i) + self.gamma(i) * source_fn(i+1))\n",
      "    \n",
      "    def formal_soln(self):\n",
      "        for i, depth in enumerate(self.tau_grid):\n",
      "            if i > 0:\n",
      "                self.I_lam[i] = self.I_lam[i-1] * exp(-self.Delta_tau(i-1)) + self.Delta_I(i)"
     ],
     "language": "python",
     "metadata": {},
     "outputs": [],
     "prompt_number": 6
    },
    {
     "cell_type": "code",
     "collapsed": false,
     "input": [
      "# angular grid\n",
      "mu_grid = np.linspace(-1, 1, n_mu_pts)\n",
      "\n",
      "rays = []\n",
      "for mu in mu_grid:\n",
      "    rays.append(ray(mu))"
     ],
     "language": "python",
     "metadata": {},
     "outputs": [],
     "prompt_number": 7
    },
    {
     "cell_type": "code",
     "collapsed": false,
     "input": [
      "for ray in rays:\n",
      "    ray.calc_tau()\n",
      "    ray.formal_soln()"
     ],
     "language": "python",
     "metadata": {},
     "outputs": [
      {
       "output_type": "stream",
       "stream": "stdout",
       "text": [
        "WARNING: Converting Quantity object in units 'cm' to a Numpy array [astropy.units.quantity]\n"
       ]
      }
     ],
     "prompt_number": 8
    },
    {
     "cell_type": "code",
     "collapsed": false,
     "input": [
      "for ray in rays:\n",
      "    print(ray.I_lam)"
     ],
     "language": "python",
     "metadata": {},
     "outputs": [
      {
       "output_type": "stream",
       "stream": "stdout",
       "text": [
        "[  0.00000000e+00   1.43724558e+06   1.54851245e+06   1.55694780e+06\n",
        "   1.55528180e+06   1.52551128e+06   1.18801497e+06   4.70186414e+04\n",
        "   2.39747180e-02   1.85627534e-03]\n",
        "[  0.00000000e+00   1.11785745e+06   1.20439526e+06   1.21091593e+06\n",
        "   1.20910226e+06   1.17941613e+06   8.55158336e+05   1.34514674e+04\n",
        "   1.86470029e-02   1.44376971e-03]\n",
        "[  0.00000000e+00   7.98469323e+05   8.60278065e+05   8.64884066e+05\n",
        "   8.62923199e+05   8.33397185e+05   5.31352692e+05   1.58792989e+03\n",
        "   1.33192878e-02   1.03126408e-03]\n",
        "[  0.00000000e+00   4.79081194e+05   5.16160873e+05   5.18852207e+05\n",
        "   5.16745539e+05   4.87603657e+05   2.30295002e+05   1.43796457e+01\n",
        "   7.99157265e-03   6.18758447e-04]\n",
        "[  0.00000000e+00   1.59693065e+05   1.72043681e+05   1.72820407e+05\n",
        "   1.70577678e+05   1.43305948e+05   1.50980818e+04   3.44050469e-02\n",
        "   2.66385755e-03   2.06252816e-04]\n",
        "[  1.00000000e+00   1.59694065e+05   1.72044681e+05   1.72821406e+05\n",
        "   1.70578664e+05   1.43306775e+05   1.50981690e+04   3.44050469e-02\n",
        "   2.66385755e-03   2.06252816e-04]\n",
        "[  1.00000000e+00   4.79082194e+05   5.16161873e+05   5.18853206e+05\n",
        "   5.16746535e+05   4.87604596e+05   2.30295446e+05   1.43796731e+01\n",
        "   7.99157265e-03   6.18758447e-04]\n",
        "[  1.00000000e+00   7.98470323e+05   8.60279065e+05   8.64885066e+05\n",
        "   8.62924196e+05   8.33398148e+05   5.31353306e+05   1.58793173e+03\n",
        "   1.33192878e-02   1.03126408e-03]\n",
        "[  1.00000000e+00   1.11785845e+06   1.20439626e+06   1.21091693e+06\n",
        "   1.20910326e+06   1.17941711e+06   8.55159042e+05   1.34514785e+04\n",
        "   1.86470029e-02   1.44376971e-03]\n",
        "[  1.00000000e+00   1.43724658e+06   1.54851345e+06   1.55694880e+06\n",
        "   1.55528280e+06   1.52551226e+06   1.18801573e+06   4.70186716e+04\n",
        "   2.39747180e-02   1.85627534e-03]\n"
       ]
      }
     ],
     "prompt_number": 10
    },
    {
     "cell_type": "code",
     "collapsed": false,
     "input": [
      "# build tri-diagonal component of Lambda matrix\n",
      "from scipy.integrate import simps\n",
      "\n",
      "i_hat_m_im1 = np.empty([n_tau_pts, n_mu_pts])\n",
      "i_hat_m_i   = np.empty([n_tau_pts, n_mu_pts])\n",
      "i_hat_m_ip1 = np.empty([n_tau_pts, n_mu_pts])\n",
      "\n",
      "i_hat_p_im1 = np.empty([n_tau_pts, n_mu_pts])\n",
      "i_hat_p_i   = np.empty([n_tau_pts, n_mu_pts])\n",
      "i_hat_p_ip1 = np.empty([n_tau_pts, n_mu_pts])\n",
      "\n",
      "Lambda = np.zeros([n_tau_pts, n_tau_pts])\n",
      "\n",
      "for i in range(1, n_tau_pts-1):\n",
      "    for j in range(n_mu_pts):\n",
      "        if (i == 1):\n",
      "            i_hat_m_im1[i, j] = 0\n",
      "            i_hat_m_i  [i, j] = 0\n",
      "            i_hat_m_ip1[i, j] = 0\n",
      "        else:\n",
      "            i_hat_m_im1[i, j] =  gamma_m(i-1, j)\n",
      "            i_hat_m_i  [i, j] =  gamma_m(i-1, j) * exp(-delta_tau(i-1, j)) + beta_m(i, j)\n",
      "            i_hat_m_ip1[i, j] = (gamma_m(i-1, j) * exp(-delta_tau(i-1, j)) + beta_m(i, j)) * exp(-delta_tau(i, j)) + alpha_m(i+1, j)\n",
      "\n",
      "for i in range(1, n_tau_pts-1):\n",
      "    for j in range(n_mu_pts):\n",
      "        if (i == n_tau_pts-1):\n",
      "            i_hat_p_ip1[i, j] = 0\n",
      "            i_hat_p_i  [i, j] = 0\n",
      "            i_hat_p_im1[i, j] = 0\n",
      "        else:\n",
      "            i_hat_p_ip1[i, j] =  alpha_p(i+1, j)\n",
      "            i_hat_p_i  [i, j] =  alpha_p(i+1, j) * exp(-delta_tau(i, j)) + beta_p(i, j)\n",
      "            i_hat_p_im1[i, j] = (alpha_p(i+1, j) * exp(-delta_tau(i, j)) + beta_p(i, j)) * exp(-delta_tau(i, j)) + gamma_p(i+1, j)\n",
      "\n",
      "for i in range(1, n_tau_pts-1):\n",
      "    Lambda[i-1, i] = 0.25 * simps(i_hat_m_im1[i] + i_hat_m_ip1[i])\n",
      "    Lambda[i  , i] = 0.25 * simps(i_hat_m_i  [i] + i_hat_m_i  [i])\n",
      "    Lambda[i+1, i] = 0.25 * simps(i_hat_m_ip1[i] + i_hat_m_ip1[i])"
     ],
     "language": "python",
     "metadata": {},
     "outputs": [
      {
       "ename": "NameError",
       "evalue": "name 'n_tau_pts' is not defined",
       "output_type": "pyerr",
       "traceback": [
        "\u001b[0;31m---------------------------------------------------------------------------\u001b[0m\n\u001b[0;31mNameError\u001b[0m                                 Traceback (most recent call last)",
        "\u001b[0;32m<ipython-input-7-dc9b84a96e7f>\u001b[0m in \u001b[0;36m<module>\u001b[0;34m()\u001b[0m\n\u001b[1;32m      2\u001b[0m \u001b[0;32mfrom\u001b[0m \u001b[0mscipy\u001b[0m\u001b[0;34m.\u001b[0m\u001b[0mintegrate\u001b[0m \u001b[0;32mimport\u001b[0m \u001b[0msimps\u001b[0m\u001b[0;34m\u001b[0m\u001b[0m\n\u001b[1;32m      3\u001b[0m \u001b[0;34m\u001b[0m\u001b[0m\n\u001b[0;32m----> 4\u001b[0;31m \u001b[0mi_hat_m_im1\u001b[0m \u001b[0;34m=\u001b[0m \u001b[0mnp\u001b[0m\u001b[0;34m.\u001b[0m\u001b[0mempty\u001b[0m\u001b[0;34m(\u001b[0m\u001b[0;34m[\u001b[0m\u001b[0mn_tau_pts\u001b[0m\u001b[0;34m,\u001b[0m \u001b[0mn_mu_pts\u001b[0m\u001b[0;34m]\u001b[0m\u001b[0;34m)\u001b[0m\u001b[0;34m\u001b[0m\u001b[0m\n\u001b[0m\u001b[1;32m      5\u001b[0m \u001b[0mi_hat_m_i\u001b[0m   \u001b[0;34m=\u001b[0m \u001b[0mnp\u001b[0m\u001b[0;34m.\u001b[0m\u001b[0mempty\u001b[0m\u001b[0;34m(\u001b[0m\u001b[0;34m[\u001b[0m\u001b[0mn_tau_pts\u001b[0m\u001b[0;34m,\u001b[0m \u001b[0mn_mu_pts\u001b[0m\u001b[0;34m]\u001b[0m\u001b[0;34m)\u001b[0m\u001b[0;34m\u001b[0m\u001b[0m\n\u001b[1;32m      6\u001b[0m \u001b[0mi_hat_m_ip1\u001b[0m \u001b[0;34m=\u001b[0m \u001b[0mnp\u001b[0m\u001b[0;34m.\u001b[0m\u001b[0mempty\u001b[0m\u001b[0;34m(\u001b[0m\u001b[0;34m[\u001b[0m\u001b[0mn_tau_pts\u001b[0m\u001b[0;34m,\u001b[0m \u001b[0mn_mu_pts\u001b[0m\u001b[0;34m]\u001b[0m\u001b[0;34m)\u001b[0m\u001b[0;34m\u001b[0m\u001b[0m\n",
        "\u001b[0;31mNameError\u001b[0m: name 'n_tau_pts' is not defined"
       ]
      },
      {
       "output_type": "stream",
       "stream": "stdout",
       "text": [
        "ERROR: NameError: name 'n_tau_pts' is not defined [IPython.core.interactiveshell]\n"
       ]
      }
     ],
     "prompt_number": 7
    },
    {
     "cell_type": "code",
     "collapsed": false,
     "input": [],
     "language": "python",
     "metadata": {},
     "outputs": [],
     "prompt_number": 11
    }
   ],
   "metadata": {}
  }
 ]
}